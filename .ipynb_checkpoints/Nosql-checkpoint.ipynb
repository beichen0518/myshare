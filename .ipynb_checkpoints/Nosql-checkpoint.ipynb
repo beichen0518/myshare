{
 "cells": [
  {
   "cell_type": "markdown",
   "metadata": {},
   "source": [
    "# Nosql"
   ]
  },
  {
   "cell_type": "markdown",
   "metadata": {},
   "source": [
    "## redis 主从复制（读写分离）\n",
    "- [具体操作](https://github.com/jackfrued/Python-100-Days/blob/master/Day66-75/03.%E5%AD%98%E5%82%A8%E6%95%B0%E6%8D%AE.md)\n",
    "- 在redis的路径下找到sentinel.conf\n",
    "- 修改配置文件\n",
    "    - 第69行设置主人的ip 和端口 以及选举是晋升主人需要的票数\n",
    "    - 第71行设置主人的密码，以便哨兵和主人保持连接\n",
    "    - 第98行设置主人崩溃多长时间后重选主人\n",
    "- 启动哨兵\n",
    "- redis sentinel.conf --sentinel\n",
    "- 在实际工作，会有一个负载均衡器，一个负载均衡器下面有多个节点，而一组主从复制的redis,只是其中的一个节点，我们在程序中连接redis是连接负载均衡器的地址。这样我们就不用担心，更换master时更换地址\n",
    "- 负载均衡\n",
    "- 硬件：F5/A10\n",
    "- 软件：\n",
    "    - Nginx + 负载均衡算法\n",
    "    - LVS\n",
    "    - 避免单点故障\n",
    "        - 负载均衡+双活\n",
    "        - Keepalived:就相当于Redis的Sentinel"
   ]
  },
  {
   "cell_type": "code",
   "execution_count": null,
   "metadata": {},
   "outputs": [],
   "source": [
    "# 用redis实现数据持久化\n",
    "from hashlib import sha1\n",
    "from urllib.parse import urljoin\n",
    "\n",
    "import pickle\n",
    "import re\n",
    "import requests\n",
    "import zlib\n",
    "\n",
    "from bs4 import BeautifulSoup\n",
    "from redis import Redis\n",
    "\n",
    "\n",
    "def main():\n",
    "    # 指定种子页面\n",
    "    base_url = 'https://www.zhihu.com/'\n",
    "    seed_url = urljoin(base_url, 'explore')\n",
    "    # 创建Redis客户端\n",
    "    client = Redis(host='1.2.3.4', port=6379, password='1qaz2wsx')\n",
    "    # 设置用户代理\n",
    "    headers = {'user-agent': 'Baiduspider'}\n",
    "    # 通过requests模块发送GET请求并指定用户代理\n",
    "    resp = requests.get(seed_url, headers=headers)\n",
    "    # 创建BeautifulSoup对象并指定使用lxml作为解析器\n",
    "    soup = BeautifulSoup(resp.text, 'lxml')\n",
    "    href_regex = re.compile(r'^/question')\n",
    "    # 将URL处理成SHA1摘要(长度固定更简短)\n",
    "    hasher_proto = sha1()\n",
    "    # 查找所有href属性以/question打头的a标签\n",
    "    for a_tag in soup.find_all('a', {'href': href_regex}):\n",
    "        # 获取a标签的href属性值并组装完整的URL\n",
    "        href = a_tag.attrs['href']\n",
    "        full_url = urljoin(base_url, href)\n",
    "        # 传入URL生成SHA1摘要\n",
    "        # 因为如果直接用href_proto，每次更新的内容前面都会有前面的内容\n",
    "        # 通过复制对象来使用对象 原型模式，比用构造器要快的多\n",
    "        hasher = hasher_proto.copy()\n",
    "        hasher.update(full_url.encode('utf-8'))\n",
    "        field_key = hasher.hexdigest()\n",
    "        # 如果Redis的键'zhihu'对应的hash数据类型中没有URL的摘要就访问页面并缓存\n",
    "        if not client.hexists('zhihu', field_key):\n",
    "            html_page = requests.get(full_url, headers=headers).text\n",
    "            # 对页面进行序列化和压缩操作\n",
    "            zipped_page = zlib.compress(pickle.dumps(html_page))\n",
    "            # 使用hash数据类型保存URL摘要及其对应的页面代码\n",
    "            client.hset('zhihu', field_key, zipped_page)\n",
    "    # 显示总共缓存了多少个页面\n",
    "    print('Total %d question pages found.' % client.hlen('zhihu'))\n",
    "    # 设置数据的存活时间，可以用ttl在redis中查看存活时间\n",
    "    client.expire('zhihu', 500)\n",
    "\n",
    "\n",
    "if __name__ == '__main__':\n",
    "    main()"
   ]
  },
  {
   "cell_type": "markdown",
   "metadata": {},
   "source": [
    "## 推送服务\n",
    "- PC端 - websocket / SockJS / STOMP\n",
    "- 移动端 - 第三方平台（极光、百度、小米、友盟）\n"
   ]
  },
  {
   "cell_type": "markdown",
   "metadata": {},
   "source": [
    "## Mongodb"
   ]
  },
  {
   "cell_type": "code",
   "execution_count": null,
   "metadata": {},
   "outputs": [],
   "source": [
    "\"\"\"\n",
    "# mongodb基本操作\n",
    "- use 数据库名 \n",
    "- db.student.find()\n",
    "- db.student.insert({})\n",
    "- db.student.find({'age':{'gt':25, 'lt':30}}) 找到年龄大于25小于30的\n",
    "\n",
    "前面是筛选条件，后面是要添加或修改的内容，如果有这个键，就修改，没有就添加\n",
    "- db.student.update({'_id': 12},{'$set':{'tel': 1233}}) \n",
    "\n",
    "\n",
    "\"\"\""
   ]
  },
  {
   "cell_type": "markdown",
   "metadata": {},
   "source": [
    "- [mongodb教程](https://www.yiibai.com/mongodb/)"
   ]
  },
  {
   "cell_type": "code",
   "execution_count": null,
   "metadata": {},
   "outputs": [],
   "source": [
    "# 用python操作mongodb\n",
    "import pymongo\n",
    "\n",
    "\n",
    "def main():\n",
    "    # client = pymongo.MongoClient('mongo://47.98.172.171:27017')\n",
    "    client = pymongo.MongoClient(host='47.98.172.171', port=27017)\n",
    "    db = client.zhihu\n",
    "    print(client)\n",
    "    # 创建一个叫webpages的集合\n",
    "    pages_cache = db.webpages\n",
    "    # 插入一条数据，并返回这条数据的对象\n",
    "    page_id = pages_cache.insert_one({'url': 'http:www.baidu.com'})\n",
    "    # 返回这条数据的id\n",
    "    print(page_id.inserted_id)\n",
    "    # 删除{'url': 'http:www.baidu.com'}这条数据\n",
    "    # print(pages_cache.remove({'url': 'http:www.baidu.com'}))\n",
    "    # 一次性插入多条命令\n",
    "    pages_cache.insert_many([\n",
    "        {'_id': 1, 'url': 'http://www.baidu.com ',\n",
    "         'content': 'shit'},\n",
    "        {'_id': 2, 'url': 'http://www.qq.com ',\n",
    "         'content': 'another shit'},\n",
    "        {'_id': 3, 'url': 'http://www.qfedu.com ',\n",
    "        'content': 'biggest shit'}\n",
    "    ])\n",
    "    # 更新数据，$set 表示在原有数据基础上进行添加或更新\n",
    "    # upsert=True 表示如果没有这条数据就插入，如果有就进行更新\n",
    "    print(pages_cache.update({'_id': 5}, {'$set': {'content': 'hello, world!'}}, upsert=True))\n",
    "    # 查找集合中共有多少文档\n",
    "    print(pages_cache.find().count())\n",
    "    # 将找到的文档按id排序\n",
    "    for doc in pages_cache.find().sort('_id'):\n",
    "        print(doc)\n",
    "\n",
    "    # 支持插入文档套文档的文档\n",
    "    pages_cache.insert_one({\n",
    "        'url': 'http://www.baidu.com',\n",
    "               'content': 'bull shit!',\n",
    "        'owner': {\n",
    "            'name': 'Lee Yanhong',\n",
    "            'age': 50,\n",
    "            'idcard': '110220196804091203'\n",
    "        }\n",
    "    })\n",
    "\n",
    "\n",
    "if __name__ == '__main__':\n",
    "    main()\n"
   ]
  }
 ],
 "metadata": {
  "kernelspec": {
   "display_name": "Python 3",
   "language": "python",
   "name": "python3"
  },
  "language_info": {
   "codemirror_mode": {
    "name": "ipython",
    "version": 3
   },
   "file_extension": ".py",
   "mimetype": "text/x-python",
   "name": "python",
   "nbconvert_exporter": "python",
   "pygments_lexer": "ipython3",
   "version": "3.6.4"
  }
 },
 "nbformat": 4,
 "nbformat_minor": 2
}
