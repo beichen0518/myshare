{
 "cells": [
  {
   "cell_type": "markdown",
   "metadata": {},
   "source": [
    "# 模拟提交表单、抓取动态数据、识别验证码"
   ]
  },
  {
   "cell_type": "markdown",
   "metadata": {},
   "source": [
    "## 模拟提交表单"
   ]
  },
  {
   "cell_type": "code",
   "execution_count": null,
   "metadata": {},
   "outputs": [],
   "source": [
    "import requests\n",
    "from bs4 import BeautifulSoup\n",
    "\n",
    "\n",
    "def main():\n",
    "    resp = requests.get('https://github.com/login')\n",
    "    if resp.status_code != 200:\n",
    "        return\n",
    "    # 得到cookies\n",
    "    cookies = resp.cookies.get_dict()\n",
    "    print(cookies)\n",
    "    soup = BeautifulSoup(resp.text, 'lxml')\n",
    "    # token\n",
    "    # 防跨站身份伪造\n",
    "    urf8_value = \\\n",
    "        soup.select_one('form input[name=utf8]').attrs['value']\n",
    "    authenticity_token = \\\n",
    "        soup.select_one('form input[name=authenticity_token]').attrs['value']\n",
    "    print(urf8_value)\n",
    "    print(authenticity_token)\n",
    "    data = {\n",
    "        'utf8': urf8_value,\n",
    "        'authenticity_token': authenticity_token,\n",
    "        'login': '',\n",
    "        'password': ''\n",
    "    }\n",
    "\n",
    "\n",
    "    # 模拟登陆提交表单\n",
    "    resps = requests.post('https://github.com/session', data=data, cookies=cookies)\n",
    "    print(resps.text)\n",
    "    # 如果要上传文件\n",
    "    # files = {\n",
    "    #     'file1': open(),\n",
    "    #     'file2': open()\n",
    "    # }\n",
    "    # resps = requests.post('https://github.com/session', data=data, cookies=cookies, files=files)\n",
    "\n",
    "\n",
    "if __name__ == '__main__':\n",
    "    main()"
   ]
  },
  {
   "cell_type": "markdown",
   "metadata": {},
   "source": [
    "## 使用robobrowser"
   ]
  },
  {
   "cell_type": "code",
   "execution_count": null,
   "metadata": {},
   "outputs": [],
   "source": [
    "# pip install robobrowser 可以模拟浏览器提交表单\n",
    "import robobrowser\n",
    "import requests\n",
    "\n",
    "\n",
    "def main():\n",
    "    \n",
    "    # robobrowser 内部是用bs4实现的\n",
    "    b = robobrowser.RoboBrowser(history=True, parser='lxml')\n",
    "    b.open(('https://github.com/login'))\n",
    "    # 选择页面要提交的表单\n",
    "    f = b.get_form(action='/session')\n",
    "    f['login'].value = ''\n",
    "    f['password'].value = ''\n",
    "    resps = b.submit_form(f)\n",
    "    print(resps)\n",
    "    for a_tag in b.select('a[href]'):\n",
    "        print(a_tag.attrs['href'])\n",
    "\n",
    "\n",
    "\n",
    "if __name__ == '__main__':\n",
    "    main()"
   ]
  },
  {
   "cell_type": "markdown",
   "metadata": {},
   "source": [
    "## 抓取动态数据"
   ]
  },
  {
   "cell_type": "code",
   "execution_count": null,
   "metadata": {},
   "outputs": [],
   "source": [
    "# pip install selenium 一个测试用的工具，可以模拟浏览器操作\n",
    "from selenium import webdriver\n",
    "from bs4 import BeautifulSoup\n",
    "from selenium.webdriver.common.keys import Keys\n",
    "\n",
    "\n",
    "def main():\n",
    "    # 可以驱动浏览器\n",
    "    # 要先下浏览器驱动\n",
    "    # 第一种方法\n",
    "    # driver = webdriver.Chrome(executable_path='驱动的路径')\n",
    "    # 第二种方法\n",
    "    # 放在path环境变量中\n",
    "    # 第三种方法\n",
    "    # 放在已放过path环境变量的文件中\n",
    "    driver = webdriver.Chrome()\n",
    "    driver.get('https://v.taobao.com/v/content/live?catetype=704&from=taonvlang')\n",
    "    # 搜索到要输入内容的标签\n",
    "    elem = driver.find_element_by_css_selector('input[placeholder=输入关键词搜索]')\n",
    "    # 向标签内传入数据\n",
    "    elem.send_keys('运动')\n",
    "    # 向标签发送回车命令\n",
    "    elem.send_keys(Keys.ENTER)\n",
    "    soup = BeautifulSoup(driver.page_source, 'lxml')\n",
    "    for img_tag in soup.body.select('img[src]'):\n",
    "        print(img_tag.attrs['src'])\n",
    "\n",
    "\n",
    "if __name__ == '__main__':\n",
    "    main()"
   ]
  },
  {
   "cell_type": "markdown",
   "metadata": {},
   "source": [
    "## 识别验证码"
   ]
  },
  {
   "cell_type": "code",
   "execution_count": null,
   "metadata": {},
   "outputs": [],
   "source": [
    "# pip install pillow 对图片进行处理\n",
    "# https://pillow.readthedocs.io/en/latest/handbook/index.html\n",
    "from io import BytesIO\n",
    "\n",
    "from PIL import Image, ImageFilter\n",
    "# pip install pytesseract 光学文字识别 同时要下一个tesseract软件\n",
    "from pytesseract import image_to_string\n",
    "import requests\n",
    "import base64\n",
    "\n",
    "\n",
    "def main():\n",
    "    # 处理过得图片才可以更好的识别其中内容，所以要用pil来处理图片\n",
    "    img = Image.open(open('鸣人仙人模式1.jpg', 'rb'))\n",
    "    # 高斯滤镜\n",
    "    # img2 = img.filter(ImageFilter.GaussianBlur)\n",
    "    # img2.save(open('hhe.jpg', 'wb'))\n",
    "\n",
    "    img1 = Image.open(open('鸣人仙人模式1.jpg', 'rb'))\n",
    "    img3 = img1.point(lambda x:0 if x < 128 else 255)\n",
    "    img3.save(open('heheda.jpg', 'wb'))\n",
    "    # 训练网址\n",
    "    # https://pp19dd.com/tesseract-ocr-chopper/?i=ocr6DLNCa\n",
    "    # https://github.com/REMitchell/tesseract-trainer/blob/master/trainer.py\n",
    "    # 或者用云打码、阿里云市场、聚合数据等第三方api 工作中推荐这种用法\n",
    "    # 进行光学识别转换成字符串\n",
    "    # print(image_to_string(img3))\n",
    "    # 转化成base64格式调第三方接口\n",
    "    base64.b64encode(BytesIO(img3))\n",
    "\n",
    "    resp = requests.get('https://pin2.aliyun.com/get_img?type=150_40&identity=mailsso.mxhichina.\n",
    "                        com&sessionid=k0xHyBxU3K3dGXb59mP9cdeTXxL9gLHSTKhRZCryHxpOoyk4lAVuJhgw==')\n",
    "    img4 = Image.open(BytesIO(resp.content))\n",
    "    img4.save('hello.jpg')\n",
    "    print(image_to_string(img4))\n",
    "    print(base64.b64encode(resp.content))\n",
    "\n",
    "\n",
    "if __name__ == '__main__':\n",
    "    main()"
   ]
  }
 ],
 "metadata": {
  "kernelspec": {
   "display_name": "Python 3",
   "language": "python",
   "name": "python3"
  },
  "language_info": {
   "codemirror_mode": {
    "name": "ipython",
    "version": 3
   },
   "file_extension": ".py",
   "mimetype": "text/x-python",
   "name": "python",
   "nbconvert_exporter": "python",
   "pygments_lexer": "ipython3",
   "version": "3.6.4"
  }
 },
 "nbformat": 4,
 "nbformat_minor": 2
}
