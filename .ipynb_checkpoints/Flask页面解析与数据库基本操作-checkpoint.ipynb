{
 "cells": [
  {
   "cell_type": "markdown",
   "metadata": {},
   "source": [
    "## 项目中的一些基本的文件\n",
    "- doc\n",
    "    - 接口文档\n",
    "        - 接口\n",
    "        - 请求类型\n",
    "        - 参数\n",
    "        - 响应\n",
    "        - 参数说明\n",
    "- requirements\n",
    "    - install.txt\n",
    "        - 包的名字+版本号\n",
    "        - 例如\n",
    "        - Flask==1.0.2\n",
    "        - Flask-Script==2.0.6\n",
    "    - 安装所有文件的命令\n",
    "        - pip install -r install.txt"
   ]
  }
 ],
 "metadata": {
  "kernelspec": {
   "display_name": "Python 3",
   "language": "python",
   "name": "python3"
  },
  "language_info": {
   "codemirror_mode": {
    "name": "ipython",
    "version": 3
   },
   "file_extension": ".py",
   "mimetype": "text/x-python",
   "name": "python",
   "nbconvert_exporter": "python",
   "pygments_lexer": "ipython3",
   "version": "3.6.4"
  }
 },
 "nbformat": 4,
 "nbformat_minor": 2
}
