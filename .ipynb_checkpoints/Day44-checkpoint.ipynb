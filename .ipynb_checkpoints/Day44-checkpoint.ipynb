{
 "cells": [
  {
   "cell_type": "markdown",
   "metadata": {},
   "source": [
    "# Django\n",
    "- MVC - Model View Contriller\n",
    "- 强制性的使应用程序的输入，处理和输出分开\n",
    "- 核心思想：解耦\n",
    "- 优点：减低各个模块之间的耦合性，方便变更，更容易重构代码，最大程度的实现了代码的重用\n",
    "- MVT - Model View Template\n",
    "- Django 的模式应该是MVT\n",
    "- 安装命令\n",
    "- pip install django==1.11"
   ]
  },
  {
   "cell_type": "markdown",
   "metadata": {},
   "source": [
    "- B/S 浏览器服务\n",
    "- C/S 客户端服务"
   ]
  },
  {
   "cell_type": "markdown",
   "metadata": {},
   "source": [
    "# virtualenv\n",
    "- pip install virtualenv\n",
    "- 安装env环境\n",
    "- virtualenv --no-site-packages -p xxx 文件夹名\n",
    "- --no-site-packages 表示纯净的python环境，不加的话会导入之前装过的包\n",
    "- -p 路径 指定安装版本\n",
    "- 在安装好的文件夹中找到Scripts文件打开里面的activate进入虚拟环境\n",
    "- 退出虚拟环境deactivate\n"
   ]
  },
  {
   "cell_type": "markdown",
   "metadata": {},
   "source": [
    "# 创建Django项目\n",
    "- 在虚拟环境中 在自己准备创建项目的工作目录下\n",
    "- 执行django-admin startproject 项目名\n",
    "- 其中会有一个manage.py文件，这个文件里面是整个项目的控制中心\n",
    "- 例如执行python manage.py runserver ip:端口运行项目\n",
    "- 进入项目文件，里面会自动生成以下文件\n",
    "    - manage.py： 是Django用于管理本项目的管理集工具，之后站点运行，数据库自动生成，数据表的修改等都是通过该文件完成。\n",
    "    - init.py： 指明该目录结构是一个python包，暂无内容，在后期会初始化一些工具会使用到。\n",
    "    - settings.py： Django项目的配置文件，其中定义了本项目的引用组件，项目名，数据库，静态资源，调试模式，域名限制等\n",
    "    - urls.py：项目的URL路由映射，实现客户端请求url由哪个模块进行响应。\n",
    "    - wsgi.py：定义WSGI接口信息，通常本文件生成后无需改动\n"
   ]
  },
  {
   "cell_type": "markdown",
   "metadata": {},
   "source": [
    "### 在settings.py中找到下面的代码，修改其中的语言和时间"
   ]
  },
  {
   "cell_type": "code",
   "execution_count": null,
   "metadata": {},
   "outputs": [],
   "source": [
    "LANGUAGE_CODE = 'zh-hans'  #表示显示的是中文\n",
    "\n",
    "TIME_ZONE = 'Asia/Shanghai'  # UTC和北京时间相差8个小时，但又因为系统中没有北京时间，故写成上海时间\n",
    "\n",
    "USE_I18N = True\n",
    "\n",
    "USE_L10N = True\n",
    "\n",
    "USE_TZ = True\n"
   ]
  },
  {
   "cell_type": "markdown",
   "metadata": {},
   "source": [
    "## 创建app\n",
    "- python manage.py startapp appname\n",
    "- app\n",
    "    - __init__.py:初始化\n",
    "    - admin.py:管理后台注册模型\n",
    "    - apps.py: settings.py 里面注册app的时候需要使用到。一般不推荐使用\n",
    "    - from app.apps import AppConfig\n",
    "    - App\n"
   ]
  },
  {
   "cell_type": "markdown",
   "metadata": {},
   "source": [
    "### 添加app\n",
    "- 在项目的主目录下找到settings.py文件\n",
    "- 在下面这个列表添加新建的app\n",
    "- 新建的 app 如果不加到 INSTALL_APPS 中的话, django 就不能自动找到app中的模板文件(app-name/templates/下的文件)和静态文件(app-name/static/中的文件) "
   ]
  },
  {
   "cell_type": "code",
   "execution_count": null,
   "metadata": {},
   "outputs": [],
   "source": [
    "INSTALLED_APPS = [\n",
    "    'django.contrib.admin',\n",
    "    'django.contrib.auth',\n",
    "    'django.contrib.contenttypes',\n",
    "    'django.contrib.sessions',\n",
    "    'django.contrib.messages',\n",
    "    'django.contrib.staticfiles',\n",
    "    'yisiyisi',\n",
    "    'stu'\n",
    "]"
   ]
  },
  {
   "cell_type": "markdown",
   "metadata": {},
   "source": [
    "### 定义一个接收请求的函数\n",
    "- 在yisiyisi 下的views.py文件中"
   ]
  },
  {
   "cell_type": "code",
   "execution_count": null,
   "metadata": {},
   "outputs": [],
   "source": [
    "from django.http import HttpResponse\n",
    "from django.shortcuts import render\n",
    "\n",
    "# Create your views here.\n",
    "#函数中一定要传参数request，表示接收的请求\n",
    "def first_hello(request):\n",
    "#HttpResponse是在网页上输出内容相当于print\n",
    "    return HttpResponse('hello, world!')\n",
    "\n",
    "def girl_hello(request):\n",
    "\n",
    "    return HttpResponse('hello, 美女')"
   ]
  },
  {
   "cell_type": "markdown",
   "metadata": {},
   "source": [
    "### 为不同app设置不同路由\n",
    "- 在主项目目录下找到urls.py\n",
    "- 这样做可以给不同app指定不同的路由，方便管理和维护"
   ]
  },
  {
   "cell_type": "code",
   "execution_count": null,
   "metadata": {},
   "outputs": [],
   "source": [
    "from django.conf.urls import url, include\n",
    "from django.contrib import admin\n",
    "\n",
    "from yisiyisi import views\n",
    "\n",
    "urlpatterns = [\n",
    "    url(r'^admin/', admin.site.urls),\n",
    "    #include是指在app下的urls内容\n",
    "    url(r'yisiyisi/', include('yisiyisi.urls')),\n",
    "    url(r'stu/', include('stu.urls'))"
   ]
  },
  {
   "cell_type": "markdown",
   "metadata": {},
   "source": [
    "### 连接路由和对应函数\n",
    "- 为每一个函数指定一个独立的路由\n",
    "- yisiyisi app中的urls.py文件\n",
    "- 这个文件需要自己创建"
   ]
  },
  {
   "cell_type": "code",
   "execution_count": null,
   "metadata": {},
   "outputs": [],
   "source": [
    "# -*- coding:utf-8 -*-\n",
    "from django.conf.urls import url\n",
    "\n",
    "from yisiyisi import views\n",
    "\n",
    "urlpatterns = [\n",
    "    #前面是路由，用符合正则表达式的规则，只要在网址栏中输入符合表达式的字符串都可以匹配到\n",
    "        url(r'hello/', views.first_hello),\n",
    "        url(r'hellogirl/', views.girl_hello)\n",
    "]"
   ]
  },
  {
   "cell_type": "markdown",
   "metadata": {},
   "source": [
    "## 迁移数据库\n",
    "- python manage.py makemigrations\n",
    "- python manage.py migrate"
   ]
  },
  {
   "cell_type": "markdown",
   "metadata": {},
   "source": [
    "### 配置MySQL环境\n",
    "- 修改settings.py的设置\n",
    "- 因为我用的是MySQL数据库，所以将数据库对应设置修改如下"
   ]
  },
  {
   "cell_type": "code",
   "execution_count": null,
   "metadata": {},
   "outputs": [],
   "source": [
    "DATABASES = {\n",
    "    'default': {\n",
    "        'ENGINE': 'django.db.backends.mysql',\n",
    "        'HOST': 'localhost',\n",
    "        'USER': 'root',\n",
    "        'PASSWORD' : '******',\n",
    "        'PORT': '3306',\n",
    "        'NAME' : 'firsthello'\n",
    "    }\n",
    "}"
   ]
  },
  {
   "cell_type": "markdown",
   "metadata": {},
   "source": [
    "### 关联数据库\n",
    "- 创建一个新的app. stu\n",
    "- 打开其中的models.py文件，并按如下代码设置初始的表"
   ]
  },
  {
   "cell_type": "code",
   "execution_count": null,
   "metadata": {},
   "outputs": [],
   "source": [
    "from django.db import models\n",
    "\n",
    "# Create your models here.\n",
    "\n",
    "\n",
    "class Student(models.Model):\n",
    "    name = models.CharField(max_length=20)\n",
    "\n",
    "    sex = models.BooleanField()\n",
    "\n",
    "    class Meta: #元，模型对应数据库中的stu表\n",
    "        db_table = 'stu'"
   ]
  },
  {
   "cell_type": "markdown",
   "metadata": {},
   "source": [
    "### 定义一个添加数据的函数\n",
    "- 在stu下设置其中的views.py文件\n",
    "- 定义一个函数，在接收到请求的时候，将数据录入数据库"
   ]
  },
  {
   "cell_type": "code",
   "execution_count": null,
   "metadata": {},
   "outputs": [],
   "source": [
    "from django.http import HttpResponse\n",
    "from django.shortcuts import render\n",
    "\n",
    "from stu.models import Student\n",
    "\n",
    "# Create your views here.\n",
    "\n",
    "\n",
    "def second_hello(request):\n",
    "\n",
    "    stu = Student()\n",
    "    stu.name = '张三'\n",
    "    stu.sex = 1\n",
    "\n",
    "    stu.save()\n",
    "\n",
    "    return HttpResponse('hello,china')"
   ]
  },
  {
   "cell_type": "markdown",
   "metadata": {},
   "source": [
    "- 这些设置好之后，输入迁移命令，迁移数据库"
   ]
  }
 ],
 "metadata": {
  "kernelspec": {
   "display_name": "Python 3",
   "language": "python",
   "name": "python3"
  },
  "language_info": {
   "codemirror_mode": {
    "name": "ipython",
    "version": 3
   },
   "file_extension": ".py",
   "mimetype": "text/x-python",
   "name": "python",
   "nbconvert_exporter": "python",
   "pygments_lexer": "ipython3",
   "version": "3.6.4"
  }
 },
 "nbformat": 4,
 "nbformat_minor": 2
}
