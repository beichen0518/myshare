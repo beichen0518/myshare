{
 "cells": [
  {
   "cell_type": "markdown",
   "metadata": {},
   "source": [
    "# 部署服务器\n",
    "##  ubuntu\n",
    "### 数据库\n",
    "- sudo apt update 更新安装包\n",
    "- apt install mysql-server mysql-client\n",
    "\n",
    "2. 设置远程访问mysql\n",
    "    - 修改配置文件\n",
    "    - /etc/mysql/mysql.conf.d\n",
    "    - 查找 mysql.conf  find / -name mysql.cnf\n",
    "    - 注释mysql.cof文件的bind_address\n",
    "    - 进入数据库操作\n",
    "    - mysql -u root -p\n",
    "    - GRANT ALL PRIVILEGES ON *.* TO 'root'@'%' IDENTIFIED BY 'root@123' WITH GRANT OPTION;\n",
    "    - 更新数据\n",
    "    - flush privileges; \n",
    "    - 退出数据库，重启数据库\n",
    "    - service mysql restart"
   ]
  }
 ],
 "metadata": {
  "kernelspec": {
   "display_name": "Python 3",
   "language": "python",
   "name": "python3"
  },
  "language_info": {
   "codemirror_mode": {
    "name": "ipython",
    "version": 3
   },
   "file_extension": ".py",
   "mimetype": "text/x-python",
   "name": "python",
   "nbconvert_exporter": "python",
   "pygments_lexer": "ipython3",
   "version": "3.6.4"
  }
 },
 "nbformat": 4,
 "nbformat_minor": 2
}
