{
 "cells": [
  {
   "cell_type": "markdown",
   "metadata": {},
   "source": [
    "# 页面解析\n",
    "\n",
    "## 过滤器  |\n",
    "- 一定注意不要多加空格，否则不会执行\n",
    "\n",
    "### 显示日期时间\n",
    "- | date:'Y-m-d H-m-s'\n",
    "    - Y 显示4位\n",
    "    - y 显示2位\n",
    "    - H 24小时制\n",
    "    - h 12小时制\n",
    "    \n",
    "- 在数据库中时间会比实际中少8个小时，如果在数据库内部操作需要注意\n",
    "\n",
    "### 变换大小写\n",
    "- | upper 变大写\n",
    "- | lower 变小写\n",
    "\n",
    "### 判断整除\n",
    "- | divisibleby:2 \n",
    "- 表示前面点的数除以2 ，如果整除返回真，否则返回假\n",
    "\n",
    "### 加\n",
    "- | add:10\n",
    "- 表示给前面的数字加10\n",
    "\n",
    "## 注释\n",
    "- 单行注释\n",
    "- {# #}\n",
    "- 多行注释\n",
    "- {% comment %}\n",
    "- {% endcomment %}\n",
    "   \n",
    "   \n",
    "## 计算\n",
    "- widthratio 数值 分母 分子\n",
    "- 表示这个数值乘以分子除以分母\n",
    "   "
   ]
  },
  {
   "cell_type": "markdown",
   "metadata": {},
   "source": [
    "```HTML\n",
    "<!DOCTYPE html>\n",
    "<html lang=\"en\">\n",
    "<head>\n",
    "    <meta charset=\"UTF-8\">\n",
    "    <title>Title</title>\n",
    "</head>\n",
    "<body>\n",
    "{% for stu in stus %}\n",
    "    计数从0开始{{ forloop.counter0 }}&nbsp;&nbsp;\n",
    "    计数从1开始{{ forloop.counter }}&nbsp;&nbsp;\n",
    "    计数从最后开始到1结束{{ forloop.revcounter }}&nbsp;&nbsp;\n",
    "    计数从最后开始到0结束{{ forloop.revcounter0 }}&nbsp;&nbsp;\n",
    "    {% ifequal forloop.counter 3 %}\n",
    "       <h1>姓名：{{ stu.stu_name }}</h1>\n",
    "    {% else %}\n",
    "        姓名：{{ stu.stu_name | upper }}\n",
    "    {% endifequal %}\n",
    "    性别：\n",
    "    {% if stu.stu_sex %}\n",
    "        男\n",
    "    {% else %}\n",
    "        女\n",
    "    {% endif %}\n",
    "    &nbsp;&nbsp;&nbsp;\n",
    "    生日：{{ stu.stu_birth | date:'Y-m-d'}}\n",
    "    创建时间：{{ stu.stu_create_time | date:'y-m-d H:m:s'}}\n",
    "    <h3>语文成绩 + 10：</h3>{{ stu.stu_yuwen | add:10 }}输出时加了10分\n",
    "        语文成绩乘以10： {% widthratio stu.stu_yuwen 1 10 %}\n",
    "    数学成绩：{{ stu.stu_math | divisibleby:2}}\n",
    "    <br />\n",
    "{% empty %}\n",
    "    没有学生信息\n",
    "{% endfor %}\n",
    "</body>\n",
    "</html>\n",
    "```"
   ]
  },
  {
   "cell_type": "markdown",
   "metadata": {},
   "source": [
    "# 定义name\n",
    "- 因为url的信息，在以后的应用过程中，会因客户需求的变化而更改，所以需要给每个url后定义一个别名，在写地址的时候用别名，避免多处修改的问题\n",
    "- {% url 'namespace:name' 参数 %}\n",
    "    - 工程url中定义namespace\n",
    "    - 模块appurl中定义name"
   ]
  },
  {
   "cell_type": "markdown",
   "metadata": {},
   "source": [
    "```HTML\n",
    "<body>\n",
    "{% for cls in class %}\n",
    "    id: {{ cls.id }}\n",
    "    <a href=\"{% url 's:stu' cls.id %}\">班级：{{ cls.c_name }}</a>\n",
    "    描述：{{ cls.c_desc }}\n",
    "    <br />\n",
    "{% endfor %}\n",
    "\n",
    "</body>\n",
    "```"
   ]
  },
  {
   "cell_type": "markdown",
   "metadata": {},
   "source": [
    "# GET 传参的方式"
   ]
  },
  {
   "cell_type": "code",
   "execution_count": null,
   "metadata": {},
   "outputs": [],
   "source": [
    "url(r'^showstu/(\\d+)/', views.showStudent, name='stu'),\n",
    "url(r'^redirectStu/(?P<g_id>\\d+)', views.redirectStu, name='red'),\n",
    "# /s/allstu/2018/4/1/\n",
    "url(r'^selstu/(\\d+)/(\\d+)/(\\d+)/', views.selStu),\n",
    "url(r'^actstu/(?P<year>\\d+)/(?P<month>\\d+)/(?P<day>\\d+)/', views.actStu),"
   ]
  },
  {
   "cell_type": "markdown",
   "metadata": {},
   "source": [
    "# 重定向\n",
    "- HttpResponseRedirect()\n",
    "- 如果需要给其他函数传递参数需要用到reverse方法导入路径如下\n",
    "- from django.core.urlresolvers import reverse"
   ]
  },
  {
   "cell_type": "code",
   "execution_count": null,
   "metadata": {},
   "outputs": [],
   "source": [
    "def showStudent(request, g_id):\n",
    "    # stus = Student.objects.filter(g_id=g_id)\n",
    "    # 不包含这个数据的所有信息\n",
    "    # stus = Student.objects.exclude(c_id=c_id)\n",
    "    # return render(request, 'show_student.html', {'students' : stus})\n",
    "    # 业务逻辑\n",
    "\n",
    "    return HttpResponseRedirect(\n",
    "        reverse('s:red', kwargs={'g_id': g_id})\n",
    "    )\n",
    "\n",
    "\n",
    "def redirectStu(request, g_id):\n",
    "    stus = Student.objects.filter(g_id=g_id)\n",
    "    return render(request, 'show_student.html', {'students': stus})\n",
    "\n",
    "\n",
    "# selstu/(\\d+)/(\\d+)/(\\d+)/ 只是传三个参数\n",
    "\n",
    "def selStu(request, y, m, d):\n",
    "\n",
    "    return HttpResponse('获取url传递多个参数的方法%s,%s,%s' % (y, m, d))\n",
    "\n",
    "\n",
    "# actstu/(?P<year>\\d+)/(?P<month>\\d+)/(?P<day>\\d+)/ 这个是指定名字的，一个名字对应一个值\n",
    "def actStu(request, month, year, day):\n",
    "    return HttpResponse('HELLO %s,%s,%s' % (month, year, day))"
   ]
  },
  {
   "cell_type": "markdown",
   "metadata": {},
   "source": [
    "# 404 、500错误显示\n",
    "- 404 一般是网址输入错误\n",
    "- 500 一般是后台代码错误\n",
    "- 在工程目录下的urls.py中，加上下面两段，后面的值是要调用的函数"
   ]
  },
  {
   "cell_type": "code",
   "execution_count": null,
   "metadata": {},
   "outputs": [],
   "source": [
    "handler404 = page_not_found  # handler404 指定处理404错误的关键字\n",
    "handler500 = server_error  # handler500 指定处理500错误的关键字"
   ]
  },
  {
   "cell_type": "markdown",
   "metadata": {},
   "source": [
    "- 在工程目录下的settings.py中\n",
    "- 将原来的DEBUG = True 改为 False\n",
    "- 这样如果网页出现错误就不再显示debug"
   ]
  },
  {
   "cell_type": "code",
   "execution_count": null,
   "metadata": {},
   "outputs": [],
   "source": [
    "DEBUG = False #  可以显示404.500的错误\n",
    "\n",
    "ALLOWED_HOSTS = ['*'] #  允许所有人访问"
   ]
  },
  {
   "cell_type": "markdown",
   "metadata": {},
   "source": [
    "# 请求方式\n",
    "- post 提交数据隐藏了\n",
    "- get 提交数据在url上，？xx=xxx 每个浏览器对后面参数长度有限制\n",
    "- put 更新全部\n",
    "- patch 更新局部数据\n",
    "- delete 删除\n",
    "- 删除： Student.objects.fillter(s_id=s_di).delete()\n",
    "\n",
    "-  code是状态码 \n",
    "- code: 200 请求成功\n",
    "- pk == id "
   ]
  },
  {
   "cell_type": "markdown",
   "metadata": {},
   "source": [
    "# 数据删除和更新"
   ]
  },
  {
   "cell_type": "markdown",
   "metadata": {},
   "source": [
    "```HTML\n",
    "<body>\n",
    "    {% for student in students %}\n",
    "        id : {{ student.id }}\n",
    "        姓名 ：{{ student.stu_name }}\n",
    "        <a href=\"/appstu/delstu/?stu_id={{ student.id }}\">删除</a>\n",
    "        <a href=\"/appstu/upstu/?stu_id={{ student.id }}\">修改</a>\n",
    "        <br />\n",
    "    {% endfor %}\n",
    "</body>\n",
    "```"
   ]
  },
  {
   "cell_type": "code",
   "execution_count": null,
   "metadata": {},
   "outputs": [],
   "source": [
    "def delStu(request):\n",
    "    stu_id = request.GET.get('stu_id')\n",
    "    Student.objects.filter(id=stu_id).delete()\n",
    "    return HttpResponseRedirect('/appclass/showcls/')\n",
    "\n",
    "\n",
    "def upStu(request):\n",
    "    stu_id = request.GET.get('stu_id')\n",
    "    # stu = Student.objects.get(id=stu_id)\n",
    "    # stu.s_name = '修改的名字'\n",
    "    # stu.save()\n",
    "    Student.objects.filter(id=stu_id).update(stu_name='大乔')\n",
    "    return HttpResponseRedirect('/appclass/showcls/')"
   ]
  },
  {
   "cell_type": "code",
   "execution_count": null,
   "metadata": {},
   "outputs": [],
   "source": [
    "\"\"\"\n",
    "作业：\n",
    "1. 添加学生信息页面，提交跳转到添加学生拓展详情页面\n",
    "2. 详情页面保存信息\n",
    "\n",
    "设计到学生表和学生拓展表， 一对一\n",
    "\"\"\""
   ]
  }
 ],
 "metadata": {
  "kernelspec": {
   "display_name": "Python 3",
   "language": "python",
   "name": "python3"
  },
  "language_info": {
   "codemirror_mode": {
    "name": "ipython",
    "version": 3
   },
   "file_extension": ".py",
   "mimetype": "text/x-python",
   "name": "python",
   "nbconvert_exporter": "python",
   "pygments_lexer": "ipython3",
   "version": "3.6.4"
  }
 },
 "nbformat": 4,
 "nbformat_minor": 2
}
