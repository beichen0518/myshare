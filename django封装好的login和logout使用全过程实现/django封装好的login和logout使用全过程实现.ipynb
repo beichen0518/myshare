{
 "cells": [
  {
   "cell_type": "markdown",
   "metadata": {},
   "source": [
    "# 用django封装的方法实现登入登出\n",
    "- 因为在网上没有找到完整的从注册到登入，再进入界面验证session ID ，最后登出删除session ID的程序。所以在看了各路大神的方法之后写了一个简单的程序。"
   ]
  },
  {
   "cell_type": "markdown",
   "metadata": {},
   "source": [
    "### 1.创建一个django项目，里面建一个名为uauth的app， 具体方法可以看前面的文章\n",
    "### 2. 配置文件，setting.py ， __init__.py 这些都和之前的配置一样\n",
    "### 3. 迁移数据库，不需要自己再创建表\n",
    "### 4.主工程下urls.py文件"
   ]
  },
  {
   "cell_type": "code",
   "execution_count": null,
   "metadata": {},
   "outputs": [],
   "source": [
    "rom django.conf.urls import url, include\n",
    "from django.contrib import admin\n",
    "\n",
    "from uauth import views\n",
    "\n",
    "urlpatterns = [\n",
    "    url(r'^admin/', admin.site.urls),\n",
    "    # 下面这个路由，是成功登入之后，django内置跳转到的地址，但没有匹配方法，需要自己来实现\n",
    "    url(r'^accounts/profile/', views.myIndex),\n",
    "    url(r'^uauth/', include('uauth.urls', namespace='uauth')),\n",
    "]"
   ]
  },
  {
   "cell_type": "markdown",
   "metadata": {},
   "source": [
    "### 5. 在app uauth文件下创建urls.py文件，具体内容如下"
   ]
  },
  {
   "cell_type": "code",
   "execution_count": null,
   "metadata": {},
   "outputs": [],
   "source": [
    "from django.conf.urls import url\n",
    "# 为了实现登入，登出，需要导入下面这两个函数\n",
    "from django.contrib.auth.views import login, logout\n",
    "\n",
    "from uauth import views\n",
    "\n",
    "urlpatterns = [\n",
    "    # 登入的路由，不可改变\n",
    "    url(r'^accounts/login/$', login),\n",
    "    # 登出的路由， 不可改变\n",
    "    url(r'^accounts/logout/$', logout),\n",
    "    # 注册用户 ，这个路由可以按自己喜好更改\n",
    "    url(r'^createuser/', views.createUser),\n",
    "]"
   ]
  },
  {
   "cell_type": "markdown",
   "metadata": {},
   "source": [
    "### 6. views.py文件中添加方法"
   ]
  },
  {
   "cell_type": "code",
   "execution_count": null,
   "metadata": {},
   "outputs": [],
   "source": [
    "from django.http import HttpResponse, HttpResponseRedirect\n",
    "from django.shortcuts import render\n",
    "from django.contrib.auth.models import User\n",
    "from django.contrib import auth\n",
    "\n",
    "# Create your views here.\n",
    "\n",
    "\n",
    "# 注册用户的方法\n",
    "def createUser(request):\n",
    "    if request.method == 'GET':\n",
    "        return render(request, 'register.html')\n",
    "    if request.method == 'POST':\n",
    "        username = request.POST.get('username')\n",
    "        upassword = request.POST.get('password')\n",
    "        # 创建新的用户\n",
    "    user = User.objects.create_user(\n",
    "        username=username,\n",
    "        password=upassword\n",
    "    )\n",
    "    user.is_staff = True\n",
    "    user.save()\n",
    "    # 这个返回可以优化，让它直接转到登录页面\n",
    "    return HttpResponse('创建成功')\n",
    "\n",
    "\n",
    "# 验证sesstion ID 保证是登录过得用户才能访问\n",
    "def myIndex(request):\n",
    "    if request.user.is_authenticated():\n",
    "        return render(request, 'index.html')\n",
    "    else:\n",
    "        # 验证不通过返回登录页面\n",
    "        return HttpResponseRedirect('/uauth/accounts/login/')"
   ]
  },
  {
   "cell_type": "markdown",
   "metadata": {},
   "source": [
    "### 7. 自己编写HTML文件\n",
    "- 在主项目目录下创建templates文件夹，在settings中配置好路径\n",
    "- 在templates文件夹下再创建一个registration的文件夹，在下面放一个名为login.html文件\n",
    "- 注意一定不要打错名字，或直接在templates下创建，否则login方法将不能找到页面\n",
    "- 其他的注册页面和主页，都直接放在templates下"
   ]
  },
  {
   "cell_type": "markdown",
   "metadata": {},
   "source": [
    "- login.html 中需要主要用户名和密码的name一定要与下面保持一致"
   ]
  },
  {
   "cell_type": "markdown",
   "metadata": {},
   "source": [
    "> **注意** 在提交post请求是一定要在后面加上{% csrf_token %}"
   ]
  },
  {
   "cell_type": "markdown",
   "metadata": {},
   "source": [
    "```HTML\n",
    "\n",
    "<!DOCTYPE html>\n",
    "<html lang=\"en\">\n",
    "<head>\n",
    "    <meta charset=\"UTF-8\">\n",
    "    <title>登录页面</title>\n",
    "</head>\n",
    "<body>\n",
    "     <form action=\"/uauth/accounts/login/\" method=\"post\">\n",
    "         {% csrf_token %}\n",
    "         <label for=\"username\">User name:</label>\n",
    "         <input type=\"text\" name=\"username\" value=\"\" id=\"username\">\n",
    "         <label for=\"password\">Password:</label>\n",
    "         <input type=\"password\" name=\"password\" value=\"\" id=\"password\">\n",
    "\n",
    "        <input type=\"submit\" value=\"login\" />\n",
    "        <input type=\"hidden\" name=\"next\" value=\"{{ next|escape }}\" />\n",
    "         <br />\n",
    "         <a href=\"/uauth/createuser/\">register</a>\n",
    " </form>\n",
    "</body>\n",
    "</html>\n",
    "```\n"
   ]
  },
  {
   "cell_type": "markdown",
   "metadata": {},
   "source": [
    "- register.html "
   ]
  },
  {
   "cell_type": "markdown",
   "metadata": {},
   "source": [
    "```HTML\n",
    "\n",
    "<!DOCTYPE html>\n",
    "<html lang=\"en\">\n",
    "<head>\n",
    "    <meta charset=\"UTF-8\">\n",
    "    <title>注册页面</title>\n",
    "</head>\n",
    "<body>\n",
    "     <form action=\"\" method=\"post\">\n",
    "         {% csrf_token %}\n",
    "         <label for=\"username\">User name:</label>\n",
    "         <input type=\"text\" name=\"username\" value=\"\" id=\"username\">\n",
    "         <label for=\"password\">Password:</label>\n",
    "         <input type=\"password\" name=\"password\" value=\"\" id=\"password\">\n",
    "\n",
    "        <input type=\"submit\" value=\"regiset\" />\n",
    " </form>\n",
    "</body>\n",
    "</html>\n",
    "```"
   ]
  },
  {
   "cell_type": "markdown",
   "metadata": {},
   "source": [
    "- index.html"
   ]
  },
  {
   "cell_type": "markdown",
   "metadata": {},
   "source": [
    "```HTML\n",
    "<!DOCTYPE html>\n",
    "<html lang=\"en\">\n",
    "<head>\n",
    "    <meta charset=\"UTF-8\">\n",
    "    <title>hello</title>\n",
    "</head>\n",
    "<body>\n",
    "    <h4>hello, world!</h4>\n",
    "    <a href=\"/uauth/accounts/logout/\">logout</a>\n",
    "</body>\n",
    "</html>\n",
    "```"
   ]
  },
  {
   "cell_type": "markdown",
   "metadata": {},
   "source": [
    "- 如果想看全部代码可以在这里找到[全部代码](https://github.com/beichen0518/myshare)"
   ]
  }
 ],
 "metadata": {
  "kernelspec": {
   "display_name": "Python 3",
   "language": "python",
   "name": "python3"
  },
  "language_info": {
   "codemirror_mode": {
    "name": "ipython",
    "version": 3
   },
   "file_extension": ".py",
   "mimetype": "text/x-python",
   "name": "python",
   "nbconvert_exporter": "python",
   "pygments_lexer": "ipython3",
   "version": "3.6.4"
  }
 },
 "nbformat": 4,
 "nbformat_minor": 2
}
