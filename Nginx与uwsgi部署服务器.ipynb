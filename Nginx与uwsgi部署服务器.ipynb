{
 "cells": [
  {
   "cell_type": "markdown",
   "metadata": {},
   "source": [
    "# 部署服务器\n",
    "##  ubuntu系统\n",
    "### 数据库\n",
    "- sudo apt update 更新安装包\n",
    "- apt install mysql-server mysql-client\n",
    "\n",
    "- 设置远程访问mysql\n",
    "    - 修改配置文件\n",
    "    - /etc/mysql/mysql.conf.d\n",
    "    - 查找 mysql.conf  find / -name mysql.cnf\n",
    "    - 注释mysql.cof文件的bind_address\n",
    "    - 进入数据库操作\n",
    "    - mysql -u root -p\n",
    "    - GRANT ALL PRIVILEGES ON *.* TO '数据库账号'@'%' IDENTIFIED BY '数据库密码' WITH GRANT OPTION;\n",
    "    - 更新数据\n",
    "    - flush privileges; \n",
    "    - 退出数据库，重启数据库\n",
    "    - service mysql restart\n",
    "    - 如果是阿里云要在安全规则里添加3306，TCP的端口\n",
    "    "
   ]
  },
  {
   "cell_type": "markdown",
   "metadata": {},
   "source": [
    "###  修改django的配置文件\n",
    "- settings.py中\n",
    "    - DEBUG=FALSE，ALLOWED_HOST=['*']\n",
    "    - STATIC_ROOT = os.path.join(BASE_DIR, 'static')\n",
    "    "
   ]
  },
  {
   "cell_type": "code",
   "execution_count": null,
   "metadata": {},
   "outputs": [],
   "source": [
    "\"\"\"\n",
    " urls.py\n",
    "         from django.views.static import serve\n",
    "         url中加入以下配置\n",
    "         url(r'^static/(?P<path>.*)$', serve, {\"document_root\": settings.STATIC_ROOT}),\n",
    "         url(r'^media/(?P<path>.*)$', serve, {\"document_root\": settings.MEDIA_ROOT}),\n",
    "         url(r'^$', views.home)\n",
    "\n",
    "\"\"\""
   ]
  },
  {
   "cell_type": "markdown",
   "metadata": {},
   "source": [
    "### 服务器中\n",
    "- 建文件夹，注意一定要在根目录下面创建不知道是否是在根目录可以用pwd查看\n",
    "- 文件结构如下\n",
    "- home\n",
    "    - app\n",
    "        - conf 将配置文件放在这个文件夹下\n",
    "        - log 将日志放在这个文件夹下\n",
    "        - src 将项目放在这个文件夹下\n",
    "- 安装pip3\n",
    "- apt install python3-pip\n",
    "\n",
    "- 安装必备库\n",
    "\t- pip3 install django==1.11\n",
    "\t- pip3 install pymysql\n",
    "\t- pip3 install Pillow\n",
    "   - pip3 install djangorestframework==3.4.6\n",
    "   - pip3 install django-filter\n",
    "\n",
    "- 查看进程\n",
    "    - netstat -lntp\n",
    "\n",
    "-  启动项目\n",
    "    - python3 manage.py runserver 0.0.0.0:8000\n",
    "    - 注意后面端口，需要在服务器上开对应的端口\n",
    "- 通过这种方式就可以在服务器上部署了项目，但实际中有更好的部署方式\n",
    "\n",
    "\n",
    "## 部署方法2：\n",
    "### 使用nginx+uwsgi配置django项目\n",
    "\n",
    "-  安装nginx\n",
    "    - sudo apt-get install nginx\n",
    "\t\n",
    "- 查看nginx的状态\n",
    "\n",
    "    - systemctl status nginx 查看nginx的状态\n",
    "    - systemctl start/stop/enable/disable nginx 启动/关闭/设置开机启动/禁止开机启动\n",
    "    - service nginx status/stop/restart/start\n",
    "\n",
    "-  安装uwsgi\n",
    "    - pip3 install uwsgi\n",
    "\n",
    "- nginx的配置文件中加载自定义的nginx的配置文件\n",
    "\n",
    "    - 在/home/app/conf/下创建一个自定义的conf文件\n",
    "    - 内容如下"
   ]
  },
  {
   "cell_type": "code",
   "execution_count": null,
   "metadata": {},
   "outputs": [],
   "source": [
    "\"\"\"\n",
    "server {\n",
    "        listen 80; # 监听80端口\n",
    "        server_name 47.105.32.183 localhost; #服务器地址\n",
    "\n",
    "        access_log /home/app/log/access.log; # 日志路径\n",
    "        error_log /home/app/log/error.log; # 错误日志路径\n",
    "\n",
    "        location / {\n",
    "            include uwsgi_params; # 将动态的求其交给uwsgi处理\n",
    "            uwsgi_pass 127.0.0.1:8090; # uwsgi端口，注意与下面的一致\n",
    "        }\n",
    "\n",
    "        location /static/ { # 将静态文件交由nginx来处理\n",
    "            alias /home/app/src/aixianfeng/static/; \n",
    "            expires 30d;\n",
    "        }\n",
    "}\n",
    "\"\"\""
   ]
  },
  {
   "cell_type": "markdown",
   "metadata": {},
   "source": [
    "- 在 /etc/nginx/nginx.conf中修改配置\n",
    "    - 找到有include的地方，加入下面的代码\n",
    "    - include /home/app/conf/*.conf;\n",
    "\n",
    "- 在/home/app/conf/下创建一个自定义的uwsgi.ini文件\n",
    "\n",
    "- 内容如下"
   ]
  },
  {
   "cell_type": "code",
   "execution_count": null,
   "metadata": {},
   "outputs": [],
   "source": [
    "\"\"\"\n",
    "# 注意下面的这个文件里不要用#注释\n",
    "[uwsgi]\n",
    "\n",
    "master = true\n",
    "\n",
    "processes = 4\n",
    "\n",
    "pythonpath = /home/app/src/aixianfeng\n",
    "\n",
    "module = aixianfeng.wsgi\n",
    "\n",
    "socket = 127.0.0.1:8090\n",
    "\n",
    "logto = /home/app/log/uwsgi.log\n",
    "\"\"\""
   ]
  },
  {
   "cell_type": "markdown",
   "metadata": {},
   "source": [
    "- 启动方式：在当前文件夹下 uwsgi --ini uwsgi.ini"
   ]
  }
 ],
 "metadata": {
  "kernelspec": {
   "display_name": "Python 3",
   "language": "python",
   "name": "python3"
  },
  "language_info": {
   "codemirror_mode": {
    "name": "ipython",
    "version": 3
   },
   "file_extension": ".py",
   "mimetype": "text/x-python",
   "name": "python",
   "nbconvert_exporter": "python",
   "pygments_lexer": "ipython3",
   "version": "3.6.4"
  }
 },
 "nbformat": 4,
 "nbformat_minor": 2
}
