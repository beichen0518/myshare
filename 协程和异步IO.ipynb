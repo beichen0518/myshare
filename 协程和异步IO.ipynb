{
 "cells": [
  {
   "cell_type": "markdown",
   "metadata": {},
   "source": [
    "# 协程和异步I/O"
   ]
  },
  {
   "cell_type": "code",
   "execution_count": null,
   "metadata": {},
   "outputs": [],
   "source": []
  },
  {
   "cell_type": "markdown",
   "metadata": {},
   "source": [
    "## 爬虫中可能会遇到障碍\n",
    "- 盗链接\n",
    "    - 不通过别人页面直接访问别人的数据\n",
    "- 防盗链接\n",
    "- 中间件 - 'www.jd.com' in request.META['HTTP_Referer'],以django为例\n",
    "- 判断这个域名是否在请求头中，如果在说明不是盗链接\n",
    "\n",
    "- 反防盗链接\n",
    "- 强行在自己的请求头时，在自己请求头里加上在访问这个页面上一个页面的url\n",
    "- requests.get(url, headers={'HTTP_Referer': 'https://ww.abc.com/video'}\n",
    "\n"
   ]
  },
  {
   "cell_type": "markdown",
   "metadata": {},
   "source": [
    "- 如果在页面的源码里有这段代码表示页面再进来时会跳转到后面的链接中，需要取到后面的链接再进行访问"
   ]
  },
  {
   "cell_type": "markdown",
   "metadata": {},
   "source": [
    "```html\n",
    "<head>\n",
    "    <meta http-equiv=\"refresh\" content=\"5;https://www.baidu.com\">\n",
    "</head>\n",
    "\n",
    "```"
   ]
  },
  {
   "cell_type": "markdown",
   "metadata": {},
   "source": [
    "- 如果遇到像京东页面需要向下滚动才会加载页面的页面时可以用下面的方法"
   ]
  },
  {
   "cell_type": "code",
   "execution_count": null,
   "metadata": {},
   "outputs": [],
   "source": [
    "from selenium import webdriver\n",
    "from bs4 import BeautifulSoup\n",
    "from selenium.webdriver.common.keys import Keys\n",
    "from time import sleep\n",
    "\n",
    "\n",
    "def main():\n",
    "    driver = webdriver.Chrome()\n",
    "    driver.get('https://www.jd.com')\n",
    "    # 里面可以执行js代码，通过js代码来控制浏览器\n",
    "    driver.execute_script('document.documentElement.scrollTop = 10000')\n",
    "    while True:\n",
    "        sleep(1)\n",
    "\n",
    "\n",
    "\n",
    "if __name__ == '__main__':\n",
    "    main()"
   ]
  },
  {
   "cell_type": "markdown",
   "metadata": {},
   "source": [
    "## 并发编程\n",
    "- 多线程 + GIL（全局解释器锁，无法发挥cpu的多核特性）+ 共享内存 适合：I/O密集型\n",
    "- 多进程 + IPC（内部进程通信机制， socket/ pipe）适合：数据密集型\n",
    "- 多进程 + 多线程 适合：数据密集型\n",
    "- 多进程 + 微线程（协程）适合：数据密集型\n",
    "- 单线程 + 异步I/O 适合：I/O密集型\n",
    "- node.js"
   ]
  },
  {
   "cell_type": "markdown",
   "metadata": {},
   "source": [
    "- 在linux或mac下\n",
    "- os.fork()可以创建子进程，并返回进程号\n",
    "    - 主进程返回子进程的进程号，子进程返回0"
   ]
  },
  {
   "cell_type": "markdown",
   "metadata": {},
   "source": [
    "### 多进程\n",
    "- 使用多进程对I/O密集型任务的性能没有实质性的改善\n",
    "- 多进程可以利用cpu的多核特性对计算密集型任务有用\n",
    "- 对于网络爬虫这种I/O密集型任务还有一种非常好的方式就是单线程+异步I/O\n",
    "- 所谓的异步I/O就是非阻塞式的I/O操作，也就是在进行I/O操作时没有终段CPU\n",
    "\n",
    "### 多线程\n",
    "- 多线程编程最担心什么？ - 多个线程竞争资源\n",
    "- 如果要保证数据的安全性就需要加锁进行保护threading.Lock\n",
    "- acquire() / release()\n",
    "- 如果多个线程获取锁的方式不正确那么就有可能导致死锁（dead lock）\n",
    "- 加锁就意味着线程需要排队等待， 相当于并发代码变成了串行执行\n",
    "- 所以在写多线程代码可以尽量避开对资源的竞争\n",
    "- 一种做法就是通过ThreadLocal为线程绑定资源让每个线程持有资源的副本\n",
    "\n",
    "### 协程\n",
    "- 两个函数在互不调用的情况下相互协作\n",
    "- 在一个线程里，没有切换，不会有资源的竞争\n",
    "- 协程是一个消费型的生成器\n"
   ]
  },
  {
   "cell_type": "code",
   "execution_count": null,
   "metadata": {},
   "outputs": [],
   "source": [
    "# 基本的协程\n",
    "from time import sleep\n",
    "# 查看协程的状态\n",
    "from inspect import getgeneratorstate\n",
    "\n",
    "\n",
    "def countdown_gen(n, consumer):\n",
    "    # 预激 -- 预先激活\n",
    "    # GEN_CREATED\n",
    "    print(getgeneratorstate(consumer))\n",
    "    consumer.send(None)\n",
    "    # 所谓的激活就是让代码执行到yield表达式\n",
    "    # GEN_SUSPEND\n",
    "    print(getgeneratorstate(consumer))\n",
    "    while n > 0:\n",
    "        # 将n发送给这个消费者\n",
    "        consumer.send(n)\n",
    "        n -= 1\n",
    "    try:\n",
    "        consumer.send(None)\n",
    "    except StopIteration:\n",
    "        pass\n",
    "    finally:\n",
    "        # 释放\n",
    "        consumer.close()\n",
    "        getgeneratorstate(consumer)\n",
    "\n",
    "def countdown_con():\n",
    "    while True:\n",
    "        # 将上面发送过来的数，赋给n\n",
    "        n = yield\n",
    "        if n:\n",
    "            print('Countdown:', n)\n",
    "            sleep(1)\n",
    "        else:\n",
    "            break\n",
    "\n",
    "\n",
    "\n",
    "def main():\n",
    "    consumer = countdown_con()\n",
    "    countdown_gen(10, consumer)\n",
    "\n",
    "\n",
    "if __name__ == '__main__':\n",
    "    main()\n"
   ]
  },
  {
   "cell_type": "code",
   "execution_count": null,
   "metadata": {},
   "outputs": [],
   "source": [
    "from time import sleep\n",
    "from myutils import coroutine\n",
    "\n",
    "\n",
    "@coroutine\n",
    "def create_delivery_man(name, capacity=1):\n",
    "    buffer = []\n",
    "    while True:\n",
    "        size = 0\n",
    "        while size < capacity:\n",
    "            pkg_name = yield\n",
    "            if pkg_name:\n",
    "                size += 1\n",
    "                buffer.append(pkg_name)\n",
    "                print('%s正在接收%s' % (name, pkg_name))\n",
    "            else:\n",
    "                break\n",
    "        print('%s正在派送%d件包裹' % (name, len(buffer)))\n",
    "        sleep(3)\n",
    "        buffer.clear()\n",
    "\n",
    "\n",
    "def create_package_center(consumer, max_packages):\n",
    "    # consumer.send(None)\n",
    "    num = 1\n",
    "    while num <= max_packages:\n",
    "        print('快递中心准备派送%d号包裹' % num)\n",
    "        consumer.send('包裹-%d' % num)\n",
    "        num += 1\n",
    "        if num % 10 == 0:\n",
    "            print('接货中。。。。')\n",
    "            sleep(5)\n",
    "\n",
    "\n",
    "def main():\n",
    "    dm = create_delivery_man('王大锤', 7)\n",
    "    create_package_center(dm, 50)\n",
    "\n",
    "\n",
    "if __name__ == '__main__':\n",
    "    main()"
   ]
  },
  {
   "cell_type": "code",
   "execution_count": null,
   "metadata": {},
   "outputs": [],
   "source": [
    "\"\"\"\n",
    "看 yield from 语法\n",
    "scapy \n",
    "movie.douban,com\n",
    "豆瓣电影\n",
    "\n",
    "\"\"\""
   ]
  }
 ],
 "metadata": {
  "kernelspec": {
   "display_name": "Python 3",
   "language": "python",
   "name": "python3"
  },
  "language_info": {
   "codemirror_mode": {
    "name": "ipython",
    "version": 3
   },
   "file_extension": ".py",
   "mimetype": "text/x-python",
   "name": "python",
   "nbconvert_exporter": "python",
   "pygments_lexer": "ipython3",
   "version": "3.6.4"
  }
 },
 "nbformat": 4,
 "nbformat_minor": 2
}
