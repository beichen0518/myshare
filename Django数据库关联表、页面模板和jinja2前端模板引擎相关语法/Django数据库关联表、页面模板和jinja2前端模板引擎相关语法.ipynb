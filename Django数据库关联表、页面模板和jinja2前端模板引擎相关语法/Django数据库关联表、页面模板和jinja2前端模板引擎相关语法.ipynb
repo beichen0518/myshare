{
 "cells": [
  {
   "cell_type": "markdown",
   "metadata": {},
   "source": [
    "# Django关联数据库\n",
    "1. 关联\n",
    "    - 1：1 OneToOneField 主键和外键是一对一的关系，在关联表中,只能关联一个主表的id\n",
    "        - 拓展表找主表： 拓展信息对象.关联字段\n",
    "        - 主表找拓展表： 主表对象.关联表的model_name\n",
    "    - 1: N\n",
    "    - M :N\n",
    "    \n",
    "2. on_delete\n",
    "    - 默认cascade， 主表删除， 从表也删除\n",
    "    - set_null 主表删除， 从表关联字段设为空\n",
    "    - protect 不让删除\n",
    "    - set_default, 主表删除，从表关联字段设置为默认值\n"
   ]
  },
  {
   "cell_type": "markdown",
   "metadata": {},
   "source": [
    "## 一对一"
   ]
  },
  {
   "cell_type": "markdown",
   "metadata": {},
   "source": [
    "- models.py文件中"
   ]
  },
  {
   "cell_type": "code",
   "execution_count": null,
   "metadata": {},
   "outputs": [],
   "source": [
    "class Student(models.Model):\n",
    "    stu_name = models.CharField(max_length=10)\n",
    "    stu_sex = models.BooleanField()\n",
    "    stu_birth = models.DateField()\n",
    "    stu_create_time = models.DateTimeField(auto_now_add=True)\n",
    "    stu_operate_time = models.DateTimeField(auto_now=True)\n",
    "    stu_yuwen = models.DecimalField(max_digits=3, decimal_places=1)\n",
    "    stu_math = models.DecimalField(max_digits=3, decimal_places=1)\n",
    "    g = models.ForeignKey(Grade, null=True)\n",
    "\n",
    "    class Meta:\n",
    "        db_table = 'stu'\n",
    "\n",
    "\n",
    "class StudentInfo(models.Model):\n",
    "\n",
    "    stu_addr = models.CharField(max_length=30)\n",
    "    stu_age = models.IntegerField()\n",
    "    # 这个字段和学生表的ID关联起来相当于外键,related_name可以让主表找到拓展表\n",
    "    stu = models.OneToOneField(Student, on_delete=models.CASCADE, related_name='stu_info')\n",
    "\n",
    "    class Meta:\n",
    "        db_table = 'stu_info'\n"
   ]
  },
  {
   "cell_type": "code",
   "execution_count": null,
   "metadata": {},
   "outputs": [],
   "source": [
    "- views.py文件中"
   ]
  },
  {
   "cell_type": "code",
   "execution_count": null,
   "metadata": {},
   "outputs": [],
   "source": [
    "def addStu(request):\n",
    "    if request.method == 'GET':\n",
    "        return render(request, 'addstu.html')\n",
    "    if request.method == 'POST':\n",
    "        stu_name = request.POST.get('name')\n",
    "        if request.POST.get('sex') == '男':\n",
    "            stu_sex = 1\n",
    "        else:\n",
    "            stu_sex = 0\n",
    "        stu_birth = request.POST.get('birth')\n",
    "        stu_yuwen = request.POST.get('yuwen')\n",
    "        stu_math = request.POST.get('math')\n",
    "\n",
    "        Student.objects.create(\n",
    "            stu_name=stu_name,\n",
    "            stu_sex=stu_sex,\n",
    "            stu_birth=stu_birth,\n",
    "            stu_yuwen=stu_yuwen,\n",
    "            stu_math=stu_math\n",
    "        )\n",
    "        return render(request, 'addstu.html')\n",
    "\n",
    "\n",
    "def selStu(request):\n",
    "\n",
    "    # 通过扩展表学生的地址去查学生的信息\n",
    "    # 查找addr = 成都天府新区的学习信息\n",
    "\n",
    "    # stus = StudentInfo.objects.filter(stu_addr='成都天府新区110号')\n",
    "    # stu = stus[0]\n",
    "    # selstu = Student.objects.filter(id=stu.stu_id)\n",
    "\n",
    "    # 拓展表找主表： 拓展信息对象.关联字段\n",
    "    # stus = StudentInfo.objects.filter(stu_addr__contains='天府新区')\n",
    "    # stu = stus[0]\n",
    "    # 中间的点stu是找到与Student表中对应的数据\n",
    "    # stu = models.OneToOneField(Student, on_delete=models.CASCADE)\n",
    "    # selstu = stu.stu\n",
    "\n",
    "    # 通过学生表去查询学生拓展表的信息\n",
    "    # 查询stu_name=刘备的学生的家庭住址\n",
    "    # 方法1\n",
    "    \"\"\"\n",
    "    select * from studentinfo s1 join\n",
    "    (select id from student where stu_name='刘备') t1\n",
    "    on s1.stu_id = t1.id\n",
    "    \"\"\"\n",
    "    # stu = Student.objects.filter(stu_name='刘备').first()\n",
    "    # selstu = StudentInfo.objects.filter(stu_id=stu.id)\n",
    "\n",
    "    # 方法2\n",
    "    stu = Student.objects.filter(stu_name='刘备').first()\n",
    "    # 下面方法只可以用一种，如果用model_name,就不能设置关联名\n",
    "    # 注意model_name 要全小写\n",
    "    # selstu = stu.studentinfo\n",
    "    selstu = stu.stu_info\n",
    "\n",
    "    return render(request, 'selstu.html', {'selstu' : selstu})"
   ]
  },
  {
   "cell_type": "markdown",
   "metadata": {},
   "source": [
    "## 一对多"
   ]
  },
  {
   "cell_type": "markdown",
   "metadata": {},
   "source": [
    "- models.py文件中\n",
    "- student数据与上面的一样就不一一列出"
   ]
  },
  {
   "cell_type": "code",
   "execution_count": null,
   "metadata": {},
   "outputs": [],
   "source": [
    "class Grade(models.Model):\n",
    "    g_name = models.CharField(max_length=10)\n",
    "\n",
    "    class Meta:\n",
    "        db_table = 'grade'"
   ]
  },
  {
   "cell_type": "markdown",
   "metadata": {},
   "source": [
    "- views.py 文件中"
   ]
  },
  {
   "cell_type": "code",
   "execution_count": null,
   "metadata": {},
   "outputs": [],
   "source": [
    "def fselStu(request):\n",
    "\n",
    "    # 查询python班级下的学生信息\n",
    "    # 方法1\n",
    "    # g = Grade.objects.get(g_name='python')\n",
    "    # stus = Student.objects.filter(g_id=g.id)\n",
    "    # 方法2\n",
    "    # g = Grade.objects.get(g_name='python')\n",
    "    # stus = g.student_set.all()\n",
    "\n",
    "    # 查询叫李白的同学的班级信息\n",
    "    # stu = Student.objects.get(stu_name='刘备')\n",
    "    # gs = stu.g\n",
    "\n",
    "    # 查询python班下语文成绩大于80分的学生\n",
    "    # g = Grade.objects.get(g_name='python')\n",
    "    # stus = g.student_set.filter(stu_yuwen__gte=80)\n",
    "\n",
    "    # 查询python班级中出生在80后的男生的信息\n",
    "    # g = Grade.objects.get(g_name='pyhon')\n",
    "    # g.student_set.filter(stu_birth__gte='1980-01-01',\n",
    "    #                      stu_birth_lt='1990-01-01',\n",
    "    #                      stu_sex=True)\n",
    "    # 查询python班级下语文成绩超过数学成绩10分的男同学信息\n",
    "    g = Grade.objects.get(g_name='python')\n",
    "    stus = g.student_set.filter(stu_yuwen__gte=F('stu_math') + 10,\n",
    "                         stu_sex=True)\n",
    "\n",
    "    return render(request, 'selgrade.html',{'stus': stus})"
   ]
  },
  {
   "cell_type": "markdown",
   "metadata": {},
   "source": [
    "## 多对多"
   ]
  },
  {
   "cell_type": "markdown",
   "metadata": {},
   "source": [
    "- models.py文件中\n",
    "- 在迁移到数据库时，会自动生成一个关联两个表的关联表"
   ]
  },
  {
   "cell_type": "code",
   "execution_count": null,
   "metadata": {},
   "outputs": [],
   "source": [
    "class GoodsUser(models.Model):\n",
    "    u_name = models.CharField(max_length=10)\n",
    "\n",
    "    class Meta:\n",
    "        db_table = 'good_user'\n",
    "\n",
    "\n",
    "class Goods(models.Model):\n",
    "    g_name = models.CharField(max_length=10)\n",
    "    g_user = models.ManyToManyField(GoodsUser)\n",
    "\n",
    "    class Meta:\n",
    "        db_table = 'goods'"
   ]
  },
  {
   "cell_type": "markdown",
   "metadata": {},
   "source": [
    "- views.py文件中的内容"
   ]
  },
  {
   "cell_type": "code",
   "execution_count": null,
   "metadata": {},
   "outputs": [],
   "source": [
    "def manyGoods(request):\n",
    "\n",
    "    # 获取小乔购买的商品\n",
    "    u = GoodsUser.objects.filter(u_name='小乔')[0]\n",
    "    goods = u.goods_set.all()\n",
    "\n",
    "\n",
    "    # 获取购买哇哈哈客户的信息\n",
    "    g = Goods.objects.get(g_name='哇哈哈')\n",
    "    users = g.g_user.all()\n",
    "\n",
    "    return render(request, 'goods.html', {'goods' : goods, 'users': users})"
   ]
  },
  {
   "cell_type": "markdown",
   "metadata": {},
   "source": [
    "> **小技巧**　python manage.py makemigrations appname 强制执行"
   ]
  },
  {
   "cell_type": "markdown",
   "metadata": {},
   "source": [
    "# static\n",
    "- 放css/js/images等文件\n",
    "- 在主目录下创建static文件夹\n",
    "- 在settings.py文件中修改如下代码\n",
    "- 静态资源加载\n",
    "    - static/images/xxx.png\n",
    "    - {% load static %}\n",
    "    - {% static 'images/xx.png' %}"
   ]
  },
  {
   "cell_type": "code",
   "execution_count": null,
   "metadata": {},
   "outputs": [],
   "source": [
    "STATIC_URL = '/static/'\n",
    "# 新增，为了让系统可以找static文件夹下的内容\n",
    "STATICFILES_DIRS = [\n",
    "    os.path.join(BASE_DIR, 'static')\n",
    "]\n"
   ]
  },
  {
   "cell_type": "markdown",
   "metadata": {},
   "source": [
    "# jinja2 前端模板引擎"
   ]
  },
  {
   "cell_type": "markdown",
   "metadata": {},
   "source": [
    "## 挖坑、填坑"
   ]
  },
  {
   "cell_type": "markdown",
   "metadata": {},
   "source": [
    "### 挖坑\n",
    "- 做成一个模板，方便有重复的页面可以调用\n",
    "- 在{% %}中的数据可以在其他页面添加，是可以变得"
   ]
  },
  {
   "cell_type": "markdown",
   "metadata": {},
   "source": [
    "```HTML\n",
    "<!DOCTYPE html>\n",
    "<html lang=\"en\">\n",
    "<head>\n",
    "    <meta charset=\"UTF-8\">\n",
    "    <title>\n",
    "\n",
    "        {% block title %} {% endblock %}\n",
    "    </title>\n",
    "</head>\n",
    "<body>\n",
    "    <h5>呵呵</h5>\n",
    "    {% block contain %} {% endblock %}\n",
    "</body>\n",
    "</html>\n",
    "```"
   ]
  },
  {
   "cell_type": "markdown",
   "metadata": {},
   "source": [
    "### 填坑\n",
    "- 补全之前有坑的地方，文章的结构不会改变\n",
    "- 要用extends方法继承之前的模板页面，include方法不会将之前的页面结构导入进来"
   ]
  },
  {
   "cell_type": "markdown",
   "metadata": {},
   "source": [
    "```HTML\n",
    "\n",
    "{#{% include 'base.html' %}#}\n",
    "{% extends 'base.html' %}\n",
    "{% block title %}\n",
    "    我是标题\n",
    "{% endblock %}\n",
    "{% block contain %}\n",
    "    我是内容\n",
    "{% endblock %}\n",
    "```"
   ]
  },
  {
   "cell_type": "markdown",
   "metadata": {},
   "source": [
    "- 在页面中一些常用的语法"
   ]
  },
  {
   "cell_type": "code",
   "execution_count": null,
   "metadata": {},
   "outputs": [],
   "source": [
    "\"\"\"\n",
    "1.for\n",
    " {% for i in stu %}\n",
    "{% empty %}\n",
    "{% endfor %}\n",
    "\n",
    "2.if\n",
    "{% if xxx %}\n",
    "{% endif %}\n",
    "\n",
    "3. ifequal\n",
    "{% ifequal xxx 1 %}\n",
    "{% else %}\n",
    "{% endifequal %}\n",
    "\n",
    "4. forloop\n",
    "forloop.counter\n",
    "计数从0开始：{{ forloop.counter0 }} \n",
    "计数从1开始：{{ forloop.counter }}\n",
    "计数从最后开始，到1停：{{ forloop.revcounter }} \n",
    "计数从最后开始，到0停：{{ forloop.revcounter0 }} \n",
    "\n",
    "5. 过滤器 （|）\n",
    "在变量显示前修改\n",
    "add 加法，增加值\n",
    "\"\"\"\n"
   ]
  },
  {
   "cell_type": "markdown",
   "metadata": {},
   "source": [
    "```HTML\n",
    "<!DOCTYPE html>\n",
    "<html lang=\"en\">\n",
    "<head>\n",
    "    <meta charset=\"UTF-8\">\n",
    "    <title>Title</title>\n",
    "</head>\n",
    "<body>\n",
    "{% for stu in stus %}\n",
    "    计数从0开始{{ forloop.counter0 }}&nbsp;&nbsp;\n",
    "    计数从1开始{{ forloop.counter }}&nbsp;&nbsp;\n",
    "    计数从最后开始到1结束{{ forloop.revcounter }}&nbsp;&nbsp;\n",
    "    计数从最后开始到0结束{{ forloop.revcounter0 }}&nbsp;&nbsp;\n",
    "    {% ifequal forloop.counter 3 %} # 当forloop.counter等于3时\n",
    "       <h1>姓名：{{ stu.stu_name }}</h1>\n",
    "    {% else %}\n",
    "        姓名：{{ stu.stu_name }}\n",
    "    {% endifequal %}\n",
    "    性别：\n",
    "    {% if stu.stu.sex %}\n",
    "        男\n",
    "    {% else %}\n",
    "        女\n",
    "    {% endif %}\n",
    "    &nbsp;&nbsp;&nbsp;\n",
    "    生日：{{ stu.stu_birth }}\n",
    "    创建时间：{{ stu.stu_create_time }}\n",
    "    语文成绩：{{ stu.stu_yuwen | add:10 }}输出时加了10分\n",
    "    数学成绩：{{ stu.stu_math | add:-10}}输出时减了10分\n",
    "    <br />\n",
    "{% empty %}\n",
    "    没有学生信息\n",
    "{% endfor %}\n",
    "</body>\n",
    "</html>\n",
    "```"
   ]
  },
  {
   "cell_type": "markdown",
   "metadata": {},
   "source": [
    "# 扩展\n",
    "- get: www.baidu.com?s=python&j=java\n",
    "    - ?后面跟参数，&来连接参数\n",
    "- exclude: 查询不满足条件的所有信息\n",
    "\n",
    "- banner 页面中的滚动图片\n",
    "- crm 后台"
   ]
  },
  {
   "cell_type": "code",
   "execution_count": null,
   "metadata": {},
   "outputs": [],
   "source": [
    "\"\"\"作业\n",
    "10. \n",
    "权限设计\n",
    "\n",
    "用户表user\n",
    "u_name, u_sex, u_birth, u_operate_time, u_create_time\n",
    "\n",
    "角色表role\n",
    "r_name， 管理员，会员，超级VIP\n",
    "\n",
    "角色role和权限permission\n",
    "r_id\n",
    "p_id\n",
    "\n",
    "权限表 permission\n",
    "p_name\n",
    "具体权限名有，登录权限，查询用户列表信息权限，修改用户信息权限\n",
    "\n",
    "1) 查询某某用户具备那些权限\n",
    "2）判断某一个用户是否有某一个权限\n",
    "\"\"\""
   ]
  }
 ],
 "metadata": {
  "kernelspec": {
   "display_name": "Python 3",
   "language": "python",
   "name": "python3"
  },
  "language_info": {
   "codemirror_mode": {
    "name": "ipython",
    "version": 3
   },
   "file_extension": ".py",
   "mimetype": "text/x-python",
   "name": "python",
   "nbconvert_exporter": "python",
   "pygments_lexer": "ipython3",
   "version": "3.6.4"
  }
 },
 "nbformat": 4,
 "nbformat_minor": 2
}
